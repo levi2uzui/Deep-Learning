{
 "cells": [
  {
   "cell_type": "markdown",
   "id": "6e4993fa",
   "metadata": {},
   "source": [
    "# !pip install tensorflow==2.5.0"
   ]
  },
  {
   "cell_type": "code",
   "execution_count": 2,
   "id": "fd1923c3",
   "metadata": {},
   "outputs": [],
   "source": [
    "import tensorflow as tf\n",
    "tf.compat.v1.disable_eager_execution() # need to disable eager in TF2.x"
   ]
  },
  {
   "cell_type": "code",
   "execution_count": 3,
   "id": "6818d545",
   "metadata": {},
   "outputs": [
    {
     "data": {
      "text/plain": [
       "<tf.Tensor 'Const:0' shape=() dtype=string>"
      ]
     },
     "execution_count": 3,
     "metadata": {},
     "output_type": "execute_result"
    }
   ],
   "source": [
    "import tensorflow as tf\n",
    "\n",
    "hello_constant = tf.constant('Hello world!')\n",
    "hello_constant"
   ]
  },
  {
   "cell_type": "code",
   "execution_count": null,
   "id": "d45159c3",
   "metadata": {},
   "outputs": [],
   "source": []
  },
  {
   "cell_type": "code",
   "execution_count": 4,
   "id": "b25d5f00",
   "metadata": {},
   "outputs": [
    {
     "name": "stdout",
     "output_type": "stream",
     "text": [
      "b'Hello world!'\n"
     ]
    }
   ],
   "source": [
    "import tensorflow as tf\n",
    "\n",
    "#Declaring our own constant\n",
    "hello_constant = tf.constant('Hello world!')\n",
    "\n",
    "#Session used for output\n",
    "sess = tf.compat.v1.Session()\n",
    "print(sess.run(hello_constant))"
   ]
  },
  {
   "cell_type": "code",
   "execution_count": null,
   "id": "88cf9eaf",
   "metadata": {},
   "outputs": [],
   "source": []
  },
  {
   "cell_type": "code",
   "execution_count": 7,
   "id": "752cad4f",
   "metadata": {},
   "outputs": [
    {
     "data": {
      "text/plain": [
       "<tf.Tensor 'Const_3:0' shape=() dtype=int32>"
      ]
     },
     "execution_count": 7,
     "metadata": {},
     "output_type": "execute_result"
    }
   ],
   "source": [
    "#Creating variables\n",
    "A = tf.constant(1234)\n",
    "A"
   ]
  },
  {
   "cell_type": "code",
   "execution_count": 8,
   "id": "0ba60a77",
   "metadata": {},
   "outputs": [
    {
     "name": "stdout",
     "output_type": "stream",
     "text": [
      "1234\n"
     ]
    }
   ],
   "source": [
    "print(sess.run(A))"
   ]
  },
  {
   "cell_type": "code",
   "execution_count": 9,
   "id": "e6eb8922",
   "metadata": {},
   "outputs": [
    {
     "data": {
      "text/plain": [
       "<tf.Tensor 'Const_4:0' shape=(3,) dtype=int32>"
      ]
     },
     "execution_count": 9,
     "metadata": {},
     "output_type": "execute_result"
    }
   ],
   "source": [
    "#1-D array\n",
    "B = tf.constant([123,456,789])\n",
    "B"
   ]
  },
  {
   "cell_type": "code",
   "execution_count": 10,
   "id": "3d939ffa",
   "metadata": {},
   "outputs": [
    {
     "name": "stdout",
     "output_type": "stream",
     "text": [
      "[123 456 789]\n"
     ]
    }
   ],
   "source": [
    "print(sess.run(B))"
   ]
  },
  {
   "cell_type": "code",
   "execution_count": 11,
   "id": "1a80c996",
   "metadata": {},
   "outputs": [
    {
     "data": {
      "text/plain": [
       "<tf.Tensor 'Const_5:0' shape=(2, 3) dtype=int32>"
      ]
     },
     "execution_count": 11,
     "metadata": {},
     "output_type": "execute_result"
    }
   ],
   "source": [
    "#3-D array \n",
    "C = tf.constant([[123,456,789] , [222,333,444]])\n",
    "C"
   ]
  },
  {
   "cell_type": "code",
   "execution_count": 12,
   "id": "3c6d7aae",
   "metadata": {},
   "outputs": [
    {
     "name": "stdout",
     "output_type": "stream",
     "text": [
      "[[123 456 789]\n",
      " [222 333 444]]\n"
     ]
    }
   ],
   "source": [
    "print(sess.run(C))"
   ]
  },
  {
   "cell_type": "code",
   "execution_count": null,
   "id": "06da5d80",
   "metadata": {},
   "outputs": [],
   "source": []
  },
  {
   "cell_type": "code",
   "execution_count": null,
   "id": "78daa4c2",
   "metadata": {},
   "outputs": [],
   "source": []
  },
  {
   "cell_type": "code",
   "execution_count": 13,
   "id": "35ed7548",
   "metadata": {},
   "outputs": [],
   "source": [
    "#Placeholder \n",
    "#it is variable in which you pass a data into a runtime"
   ]
  },
  {
   "cell_type": "code",
   "execution_count": 14,
   "id": "d00841a1",
   "metadata": {},
   "outputs": [
    {
     "name": "stdout",
     "output_type": "stream",
     "text": [
      "hello world\n"
     ]
    }
   ],
   "source": [
    "#For string \n",
    "x = tf.compat.v1.placeholder(tf.string)\n",
    "print(sess.run(x,feed_dict={x:'hello world'}))"
   ]
  },
  {
   "cell_type": "code",
   "execution_count": 15,
   "id": "8b65db48",
   "metadata": {},
   "outputs": [
    {
     "name": "stdout",
     "output_type": "stream",
     "text": [
      "hello world\n",
      "123\n",
      "45.67\n"
     ]
    }
   ],
   "source": [
    "#Examples for other datasets\n",
    "x = tf.compat.v1.placeholder(tf.string)\n",
    "y = tf.compat.v1.placeholder(tf.int32)\n",
    "z = tf.compat.v1.placeholder(tf.float32)\n",
    "\n",
    "print(sess.run(x,feed_dict={x:'hello world',y:123 , z:45.67}))\n",
    "print(sess.run(y,feed_dict={x:'hello world',y:123 , z:45.67}))\n",
    "print(sess.run(z,feed_dict={x:'hello world',y:123 , z:45.67}))"
   ]
  },
  {
   "cell_type": "code",
   "execution_count": null,
   "id": "956a8e41",
   "metadata": {},
   "outputs": [],
   "source": []
  },
  {
   "cell_type": "code",
   "execution_count": 16,
   "id": "4fc3e166",
   "metadata": {},
   "outputs": [],
   "source": [
    "#Tensflow math"
   ]
  },
  {
   "cell_type": "code",
   "execution_count": 17,
   "id": "9ac32649",
   "metadata": {},
   "outputs": [
    {
     "name": "stdout",
     "output_type": "stream",
     "text": [
      "7\n"
     ]
    }
   ],
   "source": [
    "#Add\n",
    "x = tf.add(2, 5)\n",
    "print(sess.run(x))"
   ]
  },
  {
   "cell_type": "code",
   "execution_count": 18,
   "id": "524129ad",
   "metadata": {},
   "outputs": [
    {
     "name": "stdout",
     "output_type": "stream",
     "text": [
      "2\n"
     ]
    }
   ],
   "source": [
    "#subtract\n",
    "y = tf.subtract(5, 3)\n",
    "print(sess.run(y))"
   ]
  },
  {
   "cell_type": "code",
   "execution_count": 19,
   "id": "25ecb5dd",
   "metadata": {},
   "outputs": [
    {
     "name": "stdout",
     "output_type": "stream",
     "text": [
      "10\n"
     ]
    }
   ],
   "source": [
    "#multiply\n",
    "z = tf.multiply(2, 5)\n",
    "print(sess.run(z))"
   ]
  },
  {
   "cell_type": "code",
   "execution_count": 20,
   "id": "c448e093",
   "metadata": {},
   "outputs": [
    {
     "name": "stdout",
     "output_type": "stream",
     "text": [
      "2.0\n"
     ]
    }
   ],
   "source": [
    "# Add\n",
    "a = tf.divide(4, 2)\n",
    "print(sess.run(a))"
   ]
  },
  {
   "cell_type": "code",
   "execution_count": null,
   "id": "94cf681d",
   "metadata": {},
   "outputs": [],
   "source": []
  },
  {
   "cell_type": "code",
   "execution_count": 21,
   "id": "03c7b808",
   "metadata": {},
   "outputs": [
    {
     "ename": "TypeError",
     "evalue": "Expected int32 passed to parameter 'y' of op 'Sub', got 2.0 of type 'float' instead. Error: Expected int32, got 2.0 of type 'float' instead.",
     "output_type": "error",
     "traceback": [
      "\u001b[1;31m---------------------------------------------------------------------------\u001b[0m",
      "\u001b[1;31mValueError\u001b[0m                                Traceback (most recent call last)",
      "\u001b[1;32m~\\anaconda3\\lib\\site-packages\\tensorflow\\python\\framework\\tensor_util.py\u001b[0m in \u001b[0;36m_AssertCompatible\u001b[1;34m(values, dtype)\u001b[0m\n\u001b[0;32m    329\u001b[0m   \u001b[1;32mtry\u001b[0m\u001b[1;33m:\u001b[0m\u001b[1;33m\u001b[0m\u001b[1;33m\u001b[0m\u001b[0m\n\u001b[1;32m--> 330\u001b[1;33m     \u001b[0mfn\u001b[0m\u001b[1;33m(\u001b[0m\u001b[0mvalues\u001b[0m\u001b[1;33m)\u001b[0m\u001b[1;33m\u001b[0m\u001b[1;33m\u001b[0m\u001b[0m\n\u001b[0m\u001b[0;32m    331\u001b[0m   \u001b[1;32mexcept\u001b[0m \u001b[0mValueError\u001b[0m \u001b[1;32mas\u001b[0m \u001b[0me\u001b[0m\u001b[1;33m:\u001b[0m\u001b[1;33m\u001b[0m\u001b[1;33m\u001b[0m\u001b[0m\n",
      "\u001b[1;32m~\\anaconda3\\lib\\site-packages\\tensorflow\\python\\framework\\tensor_util.py\u001b[0m in \u001b[0;36minner\u001b[1;34m(values)\u001b[0m\n\u001b[0;32m    268\u001b[0m                issubclass(v.dtype.type, expected_types))):\n\u001b[1;32m--> 269\u001b[1;33m         \u001b[0m_check_failed\u001b[0m\u001b[1;33m(\u001b[0m\u001b[0mv\u001b[0m\u001b[1;33m)\u001b[0m\u001b[1;33m\u001b[0m\u001b[1;33m\u001b[0m\u001b[0m\n\u001b[0m\u001b[0;32m    270\u001b[0m \u001b[1;33m\u001b[0m\u001b[0m\n",
      "\u001b[1;32m~\\anaconda3\\lib\\site-packages\\tensorflow\\python\\framework\\tensor_util.py\u001b[0m in \u001b[0;36m_check_failed\u001b[1;34m(v)\u001b[0m\n\u001b[0;32m    249\u001b[0m   \u001b[1;31m# it is safe to use here.\u001b[0m\u001b[1;33m\u001b[0m\u001b[1;33m\u001b[0m\u001b[0m\n\u001b[1;32m--> 250\u001b[1;33m   \u001b[1;32mraise\u001b[0m \u001b[0mValueError\u001b[0m\u001b[1;33m(\u001b[0m\u001b[0mv\u001b[0m\u001b[1;33m)\u001b[0m\u001b[1;33m\u001b[0m\u001b[1;33m\u001b[0m\u001b[0m\n\u001b[0m\u001b[0;32m    251\u001b[0m \u001b[1;33m\u001b[0m\u001b[0m\n",
      "\u001b[1;31mValueError\u001b[0m: 2.0",
      "\nDuring handling of the above exception, another exception occurred:\n",
      "\u001b[1;31mTypeError\u001b[0m                                 Traceback (most recent call last)",
      "\u001b[1;32m~\\anaconda3\\lib\\site-packages\\tensorflow\\python\\framework\\op_def_library.py\u001b[0m in \u001b[0;36m_apply_op_helper\u001b[1;34m(op_type_name, name, **keywords)\u001b[0m\n\u001b[0;32m    516\u001b[0m           \u001b[1;32melse\u001b[0m\u001b[1;33m:\u001b[0m\u001b[1;33m\u001b[0m\u001b[1;33m\u001b[0m\u001b[0m\n\u001b[1;32m--> 517\u001b[1;33m             values = ops.convert_to_tensor(\n\u001b[0m\u001b[0;32m    518\u001b[0m                 \u001b[0mvalues\u001b[0m\u001b[1;33m,\u001b[0m\u001b[1;33m\u001b[0m\u001b[1;33m\u001b[0m\u001b[0m\n",
      "\u001b[1;32m~\\anaconda3\\lib\\site-packages\\tensorflow\\python\\profiler\\trace.py\u001b[0m in \u001b[0;36mwrapped\u001b[1;34m(*args, **kwargs)\u001b[0m\n\u001b[0;32m    162\u001b[0m           \u001b[1;32mreturn\u001b[0m \u001b[0mfunc\u001b[0m\u001b[1;33m(\u001b[0m\u001b[1;33m*\u001b[0m\u001b[0margs\u001b[0m\u001b[1;33m,\u001b[0m \u001b[1;33m**\u001b[0m\u001b[0mkwargs\u001b[0m\u001b[1;33m)\u001b[0m\u001b[1;33m\u001b[0m\u001b[1;33m\u001b[0m\u001b[0m\n\u001b[1;32m--> 163\u001b[1;33m       \u001b[1;32mreturn\u001b[0m \u001b[0mfunc\u001b[0m\u001b[1;33m(\u001b[0m\u001b[1;33m*\u001b[0m\u001b[0margs\u001b[0m\u001b[1;33m,\u001b[0m \u001b[1;33m**\u001b[0m\u001b[0mkwargs\u001b[0m\u001b[1;33m)\u001b[0m\u001b[1;33m\u001b[0m\u001b[1;33m\u001b[0m\u001b[0m\n\u001b[0m\u001b[0;32m    164\u001b[0m \u001b[1;33m\u001b[0m\u001b[0m\n",
      "\u001b[1;32m~\\anaconda3\\lib\\site-packages\\tensorflow\\python\\framework\\ops.py\u001b[0m in \u001b[0;36mconvert_to_tensor\u001b[1;34m(value, dtype, name, as_ref, preferred_dtype, dtype_hint, ctx, accepted_result_types)\u001b[0m\n\u001b[0;32m   1565\u001b[0m     \u001b[1;32mif\u001b[0m \u001b[0mret\u001b[0m \u001b[1;32mis\u001b[0m \u001b[1;32mNone\u001b[0m\u001b[1;33m:\u001b[0m\u001b[1;33m\u001b[0m\u001b[1;33m\u001b[0m\u001b[0m\n\u001b[1;32m-> 1566\u001b[1;33m       \u001b[0mret\u001b[0m \u001b[1;33m=\u001b[0m \u001b[0mconversion_func\u001b[0m\u001b[1;33m(\u001b[0m\u001b[0mvalue\u001b[0m\u001b[1;33m,\u001b[0m \u001b[0mdtype\u001b[0m\u001b[1;33m=\u001b[0m\u001b[0mdtype\u001b[0m\u001b[1;33m,\u001b[0m \u001b[0mname\u001b[0m\u001b[1;33m=\u001b[0m\u001b[0mname\u001b[0m\u001b[1;33m,\u001b[0m \u001b[0mas_ref\u001b[0m\u001b[1;33m=\u001b[0m\u001b[0mas_ref\u001b[0m\u001b[1;33m)\u001b[0m\u001b[1;33m\u001b[0m\u001b[1;33m\u001b[0m\u001b[0m\n\u001b[0m\u001b[0;32m   1567\u001b[0m \u001b[1;33m\u001b[0m\u001b[0m\n",
      "\u001b[1;32m~\\anaconda3\\lib\\site-packages\\tensorflow\\python\\framework\\tensor_conversion_registry.py\u001b[0m in \u001b[0;36m_default_conversion_function\u001b[1;34m(***failed resolving arguments***)\u001b[0m\n\u001b[0;32m     51\u001b[0m   \u001b[1;32mdel\u001b[0m \u001b[0mas_ref\u001b[0m  \u001b[1;31m# Unused.\u001b[0m\u001b[1;33m\u001b[0m\u001b[1;33m\u001b[0m\u001b[0m\n\u001b[1;32m---> 52\u001b[1;33m   \u001b[1;32mreturn\u001b[0m \u001b[0mconstant_op\u001b[0m\u001b[1;33m.\u001b[0m\u001b[0mconstant\u001b[0m\u001b[1;33m(\u001b[0m\u001b[0mvalue\u001b[0m\u001b[1;33m,\u001b[0m \u001b[0mdtype\u001b[0m\u001b[1;33m,\u001b[0m \u001b[0mname\u001b[0m\u001b[1;33m=\u001b[0m\u001b[0mname\u001b[0m\u001b[1;33m)\u001b[0m\u001b[1;33m\u001b[0m\u001b[1;33m\u001b[0m\u001b[0m\n\u001b[0m\u001b[0;32m     53\u001b[0m \u001b[1;33m\u001b[0m\u001b[0m\n",
      "\u001b[1;32m~\\anaconda3\\lib\\site-packages\\tensorflow\\python\\framework\\constant_op.py\u001b[0m in \u001b[0;36mconstant\u001b[1;34m(value, dtype, shape, name)\u001b[0m\n\u001b[0;32m    263\u001b[0m   \"\"\"\n\u001b[1;32m--> 264\u001b[1;33m   return _constant_impl(value, dtype, shape, name, verify_shape=False,\n\u001b[0m\u001b[0;32m    265\u001b[0m                         allow_broadcast=True)\n",
      "\u001b[1;32m~\\anaconda3\\lib\\site-packages\\tensorflow\\python\\framework\\constant_op.py\u001b[0m in \u001b[0;36m_constant_impl\u001b[1;34m(value, dtype, shape, name, verify_shape, allow_broadcast)\u001b[0m\n\u001b[0;32m    280\u001b[0m   tensor_value.tensor.CopyFrom(\n\u001b[1;32m--> 281\u001b[1;33m       tensor_util.make_tensor_proto(\n\u001b[0m\u001b[0;32m    282\u001b[0m           \u001b[0mvalue\u001b[0m\u001b[1;33m,\u001b[0m \u001b[0mdtype\u001b[0m\u001b[1;33m=\u001b[0m\u001b[0mdtype\u001b[0m\u001b[1;33m,\u001b[0m \u001b[0mshape\u001b[0m\u001b[1;33m=\u001b[0m\u001b[0mshape\u001b[0m\u001b[1;33m,\u001b[0m \u001b[0mverify_shape\u001b[0m\u001b[1;33m=\u001b[0m\u001b[0mverify_shape\u001b[0m\u001b[1;33m,\u001b[0m\u001b[1;33m\u001b[0m\u001b[1;33m\u001b[0m\u001b[0m\n",
      "\u001b[1;32m~\\anaconda3\\lib\\site-packages\\tensorflow\\python\\framework\\tensor_util.py\u001b[0m in \u001b[0;36mmake_tensor_proto\u001b[1;34m(values, dtype, shape, verify_shape, allow_broadcast)\u001b[0m\n\u001b[0;32m    456\u001b[0m     \u001b[1;32melse\u001b[0m\u001b[1;33m:\u001b[0m\u001b[1;33m\u001b[0m\u001b[1;33m\u001b[0m\u001b[0m\n\u001b[1;32m--> 457\u001b[1;33m       \u001b[0m_AssertCompatible\u001b[0m\u001b[1;33m(\u001b[0m\u001b[0mvalues\u001b[0m\u001b[1;33m,\u001b[0m \u001b[0mdtype\u001b[0m\u001b[1;33m)\u001b[0m\u001b[1;33m\u001b[0m\u001b[1;33m\u001b[0m\u001b[0m\n\u001b[0m\u001b[0;32m    458\u001b[0m       \u001b[0mnparray\u001b[0m \u001b[1;33m=\u001b[0m \u001b[0mnp\u001b[0m\u001b[1;33m.\u001b[0m\u001b[0marray\u001b[0m\u001b[1;33m(\u001b[0m\u001b[0mvalues\u001b[0m\u001b[1;33m,\u001b[0m \u001b[0mdtype\u001b[0m\u001b[1;33m=\u001b[0m\u001b[0mnp_dt\u001b[0m\u001b[1;33m)\u001b[0m\u001b[1;33m\u001b[0m\u001b[1;33m\u001b[0m\u001b[0m\n",
      "\u001b[1;32m~\\anaconda3\\lib\\site-packages\\tensorflow\\python\\framework\\tensor_util.py\u001b[0m in \u001b[0;36m_AssertCompatible\u001b[1;34m(values, dtype)\u001b[0m\n\u001b[0;32m    335\u001b[0m     \u001b[1;32melse\u001b[0m\u001b[1;33m:\u001b[0m\u001b[1;33m\u001b[0m\u001b[1;33m\u001b[0m\u001b[0m\n\u001b[1;32m--> 336\u001b[1;33m       raise TypeError(\"Expected %s, got %s of type '%s' instead.\" %\n\u001b[0m\u001b[0;32m    337\u001b[0m                       (dtype.name, repr(mismatch), type(mismatch).__name__))\n",
      "\u001b[1;31mTypeError\u001b[0m: Expected int32, got 2.0 of type 'float' instead.",
      "\nDuring handling of the above exception, another exception occurred:\n",
      "\u001b[1;31mTypeError\u001b[0m                                 Traceback (most recent call last)",
      "\u001b[1;32m~\\AppData\\Local\\Temp/ipykernel_22580/1125178070.py\u001b[0m in \u001b[0;36m<module>\u001b[1;34m\u001b[0m\n\u001b[0;32m      1\u001b[0m \u001b[1;31m#For math operation You need same datatype\u001b[0m\u001b[1;33m\u001b[0m\u001b[1;33m\u001b[0m\u001b[0m\n\u001b[0;32m      2\u001b[0m \u001b[1;33m\u001b[0m\u001b[0m\n\u001b[1;32m----> 3\u001b[1;33m \u001b[0mtf\u001b[0m\u001b[1;33m.\u001b[0m\u001b[0msubtract\u001b[0m\u001b[1;33m(\u001b[0m\u001b[1;36m3\u001b[0m\u001b[1;33m,\u001b[0m\u001b[1;36m2.0\u001b[0m\u001b[1;33m)\u001b[0m  \u001b[1;31m#error\u001b[0m\u001b[1;33m\u001b[0m\u001b[1;33m\u001b[0m\u001b[0m\n\u001b[0m",
      "\u001b[1;32m~\\anaconda3\\lib\\site-packages\\tensorflow\\python\\util\\dispatch.py\u001b[0m in \u001b[0;36mwrapper\u001b[1;34m(*args, **kwargs)\u001b[0m\n\u001b[0;32m    204\u001b[0m     \u001b[1;34m\"\"\"Call target, and fall back on dispatchers if there is a TypeError.\"\"\"\u001b[0m\u001b[1;33m\u001b[0m\u001b[1;33m\u001b[0m\u001b[0m\n\u001b[0;32m    205\u001b[0m     \u001b[1;32mtry\u001b[0m\u001b[1;33m:\u001b[0m\u001b[1;33m\u001b[0m\u001b[1;33m\u001b[0m\u001b[0m\n\u001b[1;32m--> 206\u001b[1;33m       \u001b[1;32mreturn\u001b[0m \u001b[0mtarget\u001b[0m\u001b[1;33m(\u001b[0m\u001b[1;33m*\u001b[0m\u001b[0margs\u001b[0m\u001b[1;33m,\u001b[0m \u001b[1;33m**\u001b[0m\u001b[0mkwargs\u001b[0m\u001b[1;33m)\u001b[0m\u001b[1;33m\u001b[0m\u001b[1;33m\u001b[0m\u001b[0m\n\u001b[0m\u001b[0;32m    207\u001b[0m     \u001b[1;32mexcept\u001b[0m \u001b[1;33m(\u001b[0m\u001b[0mTypeError\u001b[0m\u001b[1;33m,\u001b[0m \u001b[0mValueError\u001b[0m\u001b[1;33m)\u001b[0m\u001b[1;33m:\u001b[0m\u001b[1;33m\u001b[0m\u001b[1;33m\u001b[0m\u001b[0m\n\u001b[0;32m    208\u001b[0m       \u001b[1;31m# Note: convert_to_eager_tensor currently raises a ValueError, not a\u001b[0m\u001b[1;33m\u001b[0m\u001b[1;33m\u001b[0m\u001b[0m\n",
      "\u001b[1;32m~\\anaconda3\\lib\\site-packages\\tensorflow\\python\\ops\\math_ops.py\u001b[0m in \u001b[0;36msubtract\u001b[1;34m(x, y, name)\u001b[0m\n\u001b[0;32m    546\u001b[0m \u001b[1;33m@\u001b[0m\u001b[0mdispatch\u001b[0m\u001b[1;33m.\u001b[0m\u001b[0madd_dispatch_support\u001b[0m\u001b[1;33m\u001b[0m\u001b[1;33m\u001b[0m\u001b[0m\n\u001b[0;32m    547\u001b[0m \u001b[1;32mdef\u001b[0m \u001b[0msubtract\u001b[0m\u001b[1;33m(\u001b[0m\u001b[0mx\u001b[0m\u001b[1;33m,\u001b[0m \u001b[0my\u001b[0m\u001b[1;33m,\u001b[0m \u001b[0mname\u001b[0m\u001b[1;33m=\u001b[0m\u001b[1;32mNone\u001b[0m\u001b[1;33m)\u001b[0m\u001b[1;33m:\u001b[0m\u001b[1;33m\u001b[0m\u001b[1;33m\u001b[0m\u001b[0m\n\u001b[1;32m--> 548\u001b[1;33m   \u001b[1;32mreturn\u001b[0m \u001b[0mgen_math_ops\u001b[0m\u001b[1;33m.\u001b[0m\u001b[0msub\u001b[0m\u001b[1;33m(\u001b[0m\u001b[0mx\u001b[0m\u001b[1;33m,\u001b[0m \u001b[0my\u001b[0m\u001b[1;33m,\u001b[0m \u001b[0mname\u001b[0m\u001b[1;33m)\u001b[0m\u001b[1;33m\u001b[0m\u001b[1;33m\u001b[0m\u001b[0m\n\u001b[0m\u001b[0;32m    549\u001b[0m \u001b[1;33m\u001b[0m\u001b[0m\n\u001b[0;32m    550\u001b[0m \u001b[1;33m\u001b[0m\u001b[0m\n",
      "\u001b[1;32m~\\anaconda3\\lib\\site-packages\\tensorflow\\python\\ops\\gen_math_ops.py\u001b[0m in \u001b[0;36msub\u001b[1;34m(x, y, name)\u001b[0m\n\u001b[0;32m  10558\u001b[0m       \u001b[1;32mpass\u001b[0m  \u001b[1;31m# Add nodes to the TensorFlow graph.\u001b[0m\u001b[1;33m\u001b[0m\u001b[1;33m\u001b[0m\u001b[0m\n\u001b[0;32m  10559\u001b[0m   \u001b[1;31m# Add nodes to the TensorFlow graph.\u001b[0m\u001b[1;33m\u001b[0m\u001b[1;33m\u001b[0m\u001b[0m\n\u001b[1;32m> 10560\u001b[1;33m   _, _, _op, _outputs = _op_def_library._apply_op_helper(\n\u001b[0m\u001b[0;32m  10561\u001b[0m         \"Sub\", x=x, y=y, name=name)\n\u001b[0;32m  10562\u001b[0m   \u001b[0m_result\u001b[0m \u001b[1;33m=\u001b[0m \u001b[0m_outputs\u001b[0m\u001b[1;33m[\u001b[0m\u001b[1;33m:\u001b[0m\u001b[1;33m]\u001b[0m\u001b[1;33m\u001b[0m\u001b[1;33m\u001b[0m\u001b[0m\n",
      "\u001b[1;32m~\\anaconda3\\lib\\site-packages\\tensorflow\\python\\framework\\op_def_library.py\u001b[0m in \u001b[0;36m_apply_op_helper\u001b[1;34m(op_type_name, name, **keywords)\u001b[0m\n\u001b[0;32m    525\u001b[0m             \u001b[1;32mraise\u001b[0m \u001b[0merr\u001b[0m\u001b[1;33m\u001b[0m\u001b[1;33m\u001b[0m\u001b[0m\n\u001b[0;32m    526\u001b[0m           \u001b[1;32melse\u001b[0m\u001b[1;33m:\u001b[0m\u001b[1;33m\u001b[0m\u001b[1;33m\u001b[0m\u001b[0m\n\u001b[1;32m--> 527\u001b[1;33m             raise TypeError(\n\u001b[0m\u001b[0;32m    528\u001b[0m                 \u001b[1;34m\"Expected %s passed to parameter '%s' of op '%s', got %s of \"\u001b[0m\u001b[1;33m\u001b[0m\u001b[1;33m\u001b[0m\u001b[0m\n\u001b[0;32m    529\u001b[0m                 \u001b[1;34m\"type '%s' instead. Error: %s\"\u001b[0m \u001b[1;33m%\u001b[0m\u001b[1;33m\u001b[0m\u001b[1;33m\u001b[0m\u001b[0m\n",
      "\u001b[1;31mTypeError\u001b[0m: Expected int32 passed to parameter 'y' of op 'Sub', got 2.0 of type 'float' instead. Error: Expected int32, got 2.0 of type 'float' instead."
     ]
    }
   ],
   "source": [
    "#For math operation You need same datatype\n",
    "\n",
    "tf.subtract(3,2.0)  #error"
   ]
  },
  {
   "cell_type": "code",
   "execution_count": 22,
   "id": "2cbcbbd5",
   "metadata": {},
   "outputs": [
    {
     "name": "stdout",
     "output_type": "stream",
     "text": [
      "-1\n"
     ]
    }
   ],
   "source": [
    "#Converting float into integer\n",
    "sub = tf.subtract(tf.cast(tf.constant(2.0),tf.int32) ,tf.constant(3))\n",
    "print(sess.run(sub))"
   ]
  },
  {
   "cell_type": "code",
   "execution_count": null,
   "id": "42e54199",
   "metadata": {},
   "outputs": [],
   "source": []
  },
  {
   "cell_type": "code",
   "execution_count": 37,
   "id": "04f34154",
   "metadata": {},
   "outputs": [],
   "source": [
    "#variables\n",
    "x = tf.Variable(5)"
   ]
  },
  {
   "cell_type": "code",
   "execution_count": 40,
   "id": "345b0f05",
   "metadata": {},
   "outputs": [
    {
     "data": {
      "text/plain": [
       "5"
      ]
     },
     "execution_count": 40,
     "metadata": {},
     "output_type": "execute_result"
    }
   ],
   "source": [
    "init = tf.compat.v1.global_variables_initializer() #initialize before output\n",
    "sess.run(init)\n",
    "sess.run(x)"
   ]
  },
  {
   "cell_type": "code",
   "execution_count": null,
   "id": "d6a1b7ad",
   "metadata": {},
   "outputs": [],
   "source": []
  },
  {
   "cell_type": "code",
   "execution_count": null,
   "id": "ac0910eb",
   "metadata": {},
   "outputs": [],
   "source": [
    "#Truncated Normal()"
   ]
  },
  {
   "cell_type": "code",
   "execution_count": 46,
   "id": "8efa9c60",
   "metadata": {},
   "outputs": [
    {
     "data": {
      "text/plain": [
       "array([[-1.31684721e-01,  8.49163175e-01,  7.13071048e-01,\n",
       "        -1.34061730e+00,  1.53113163e+00],\n",
       "       [-7.78323412e-01,  4.51283664e-01,  4.59968537e-01,\n",
       "         3.37906778e-02,  1.96938664e-01],\n",
       "       [ 3.42754498e-02, -4.93482128e-02, -2.47237016e-03,\n",
       "         1.70007706e+00, -9.00755703e-01],\n",
       "       [ 1.87260854e+00,  4.83700305e-01, -1.58130243e-01,\n",
       "         5.68253815e-01,  1.96157843e-01],\n",
       "       [-9.17926490e-01,  3.99022818e-01, -9.05019268e-02,\n",
       "        -3.63030620e-02, -5.90447366e-01],\n",
       "       [-8.58446658e-01, -4.24924582e-01,  3.37370872e-01,\n",
       "        -5.09000361e-01, -9.80465591e-01],\n",
       "       [ 7.79877603e-01,  8.71226728e-01, -4.13478822e-01,\n",
       "        -1.24850619e+00,  1.37458098e+00],\n",
       "       [ 2.50274420e-01, -1.30192661e+00, -4.95912850e-01,\n",
       "        -1.12911868e+00,  1.30307412e+00],\n",
       "       [-3.88315797e-01,  1.55932236e+00,  5.14361799e-01,\n",
       "         8.18513453e-01, -1.20126940e-01],\n",
       "       [ 1.20668963e-01,  1.31280708e+00, -8.86031389e-01,\n",
       "         1.30865347e+00,  7.07953274e-02],\n",
       "       [ 1.03624308e+00,  1.23204529e+00,  9.02390957e-01,\n",
       "        -1.12994075e+00, -1.56871140e+00],\n",
       "       [-7.14418218e-02,  1.09859809e-01,  1.31580365e+00,\n",
       "        -4.72157151e-01, -1.04622412e+00],\n",
       "       [ 1.31420410e+00,  1.26420510e+00,  7.27374732e-01,\n",
       "         1.40814483e+00, -5.69778562e-01],\n",
       "       [ 4.02290374e-01, -2.15400338e-01,  1.29623544e+00,\n",
       "         5.93108416e-01,  2.42626995e-01],\n",
       "       [ 7.70823479e-01, -5.37163258e-01,  4.77970898e-01,\n",
       "        -2.49961719e-01,  5.93800604e-01],\n",
       "       [-7.14359641e-01,  9.41570938e-01,  6.84586346e-01,\n",
       "         1.81218958e+00,  6.16737545e-01],\n",
       "       [-4.30187970e-01, -4.68700856e-01, -4.94842261e-01,\n",
       "         3.55071068e-01,  1.83153892e+00],\n",
       "       [ 1.28035964e-02, -6.29265904e-01,  1.17494190e+00,\n",
       "         1.17522955e+00, -9.27745998e-02],\n",
       "       [ 4.16527957e-01,  4.16667163e-01,  5.60926855e-01,\n",
       "        -1.33381450e+00,  4.79381859e-01],\n",
       "       [ 1.75805020e+00,  7.95453638e-02,  9.30659890e-01,\n",
       "        -1.02701141e-02,  3.68714511e-01],\n",
       "       [ 1.94031715e+00, -3.49465936e-01, -1.26970935e+00,\n",
       "        -4.30085033e-01,  9.34307933e-01],\n",
       "       [-1.62564385e+00,  6.00501597e-01,  8.17710221e-01,\n",
       "        -8.69840086e-01,  4.65194672e-01],\n",
       "       [-6.48227334e-01, -3.21393341e-01, -8.99735689e-01,\n",
       "        -4.42619324e-02,  5.47797918e-01],\n",
       "       [ 1.28841031e+00, -1.10140681e+00,  1.89315498e-01,\n",
       "         7.38560855e-02, -1.03148162e+00],\n",
       "       [-6.67824745e-01, -2.61074543e-01,  3.67723137e-01,\n",
       "         5.98351240e-01,  6.04186533e-03],\n",
       "       [-2.89502621e-01, -1.48347402e+00, -1.62214434e+00,\n",
       "        -9.77434278e-01,  1.21568775e+00],\n",
       "       [-8.82039905e-01,  4.95051980e-01, -8.26993048e-01,\n",
       "        -2.52909362e-01,  4.08071846e-01],\n",
       "       [ 1.94876716e-01,  1.03746521e+00,  1.04733741e+00,\n",
       "         3.45347345e-01,  9.46371436e-01],\n",
       "       [ 4.75948662e-01,  1.08097076e+00, -8.38980258e-01,\n",
       "        -8.35631371e-01,  3.16405654e-01],\n",
       "       [-7.38929957e-02, -1.00396216e+00,  1.59369600e+00,\n",
       "         1.28828794e-01, -1.73662138e+00],\n",
       "       [-8.75678122e-01, -4.69791144e-01, -6.93861783e-01,\n",
       "        -4.12279606e-01,  1.18871105e+00],\n",
       "       [ 4.91662711e-01,  1.12735629e-01, -1.08479941e+00,\n",
       "         1.36337252e-02,  9.18124080e-01],\n",
       "       [ 6.18213825e-02, -1.05401206e+00, -2.23265678e-01,\n",
       "        -6.29765868e-01, -1.09305251e+00],\n",
       "       [-1.47760510e+00,  5.23827553e-01, -1.41194928e+00,\n",
       "        -3.51495832e-01,  1.23689525e-01],\n",
       "       [ 1.09624982e+00,  3.80576134e-01, -2.68092006e-01,\n",
       "        -4.41739887e-01,  5.50152361e-02],\n",
       "       [-1.02937984e+00, -6.57792807e-01, -4.49107364e-02,\n",
       "        -8.11569035e-01, -1.28538966e+00],\n",
       "       [ 3.93025130e-01, -6.99534118e-01, -1.95807743e+00,\n",
       "         7.27984607e-01,  5.23704648e-01],\n",
       "       [ 3.02314639e-01, -7.05461577e-02, -8.65603760e-02,\n",
       "         8.49980861e-02, -2.61218697e-02],\n",
       "       [-4.30841178e-01,  1.10920453e+00,  7.52017796e-01,\n",
       "        -5.88769674e-01, -6.62649035e-01],\n",
       "       [ 8.38736773e-01,  4.51778501e-01,  9.22590017e-01,\n",
       "        -5.89643657e-01,  5.65892518e-01],\n",
       "       [-6.06973767e-01,  1.41107142e+00,  1.19980466e+00,\n",
       "        -5.11214197e-01,  8.56480896e-01],\n",
       "       [-3.64522696e-01,  8.31916749e-01, -8.61648172e-02,\n",
       "        -4.36294526e-01, -9.23737884e-01],\n",
       "       [ 8.90771031e-01, -4.61118191e-01, -1.87469006e+00,\n",
       "         2.46406104e-02,  1.91821251e-02],\n",
       "       [ 3.47559810e-01,  1.11251283e+00,  5.74644387e-01,\n",
       "         1.51191497e+00,  6.27358019e-01],\n",
       "       [-8.91103521e-02, -7.24779129e-01,  8.93272817e-01,\n",
       "        -1.76638412e+00, -3.49578381e-01],\n",
       "       [ 1.06801569e+00, -9.60872829e-01,  6.73884153e-01,\n",
       "        -6.14045024e-01, -7.32657731e-01],\n",
       "       [ 7.77752817e-01,  1.20325315e+00, -4.84882593e-01,\n",
       "         2.00158879e-02, -8.84761810e-01],\n",
       "       [-9.29104805e-01, -3.42340350e-01,  1.72272766e+00,\n",
       "         1.03035524e-01,  1.38351214e+00],\n",
       "       [ 1.95652330e+00, -1.98866978e-01, -2.68446058e-01,\n",
       "        -3.88665795e-01,  3.01242530e-01],\n",
       "       [ 7.80299485e-01, -7.13992417e-01,  2.73298085e-01,\n",
       "         1.45287603e-01, -2.36188725e-01],\n",
       "       [-9.12777364e-01, -9.57475781e-01,  8.62538159e-01,\n",
       "         3.45098734e-01,  4.15011019e-01],\n",
       "       [-4.16446447e-01,  1.86728406e+00, -4.67291832e-01,\n",
       "        -1.81262589e+00,  1.47735393e+00],\n",
       "       [ 1.13271856e+00,  9.80501235e-01, -1.00179352e-02,\n",
       "        -1.52557790e-01,  2.21710671e-02],\n",
       "       [-4.47282881e-01, -9.79328513e-01,  9.91443455e-01,\n",
       "        -1.04173529e+00, -1.02024817e+00],\n",
       "       [-1.70687246e+00,  1.89591050e+00, -1.09084058e+00,\n",
       "        -1.61057937e+00, -1.37169635e+00],\n",
       "       [ 6.81179166e-01,  5.42765260e-01, -1.69123799e-01,\n",
       "         1.39197016e+00, -9.02532637e-01],\n",
       "       [-3.90796270e-03,  4.03440148e-01,  1.15793891e-01,\n",
       "         3.13440800e-01,  1.12462723e+00],\n",
       "       [ 9.61604834e-01, -1.82548988e+00, -2.18977869e-01,\n",
       "         7.51445711e-01,  8.42757225e-02],\n",
       "       [-9.84080911e-01, -3.28874528e-01,  2.03792036e-01,\n",
       "        -1.65815890e+00,  5.89459598e-01],\n",
       "       [-7.71977901e-01,  6.29002035e-01, -6.53700411e-01,\n",
       "         4.15721565e-01,  7.00603575e-02],\n",
       "       [-1.02333724e+00,  4.26392257e-01, -5.06606638e-01,\n",
       "        -3.62744182e-02, -7.53188133e-01],\n",
       "       [ 4.75157976e-01, -7.57366121e-01, -1.10875463e+00,\n",
       "        -7.23766804e-01,  7.92732775e-01],\n",
       "       [-1.37129188e+00,  1.02055371e+00, -6.41154885e-01,\n",
       "        -6.24703467e-01,  8.33571255e-01],\n",
       "       [ 7.28879929e-01, -1.55470252e+00, -1.67876744e+00,\n",
       "        -6.43171906e-01, -1.69364661e-01],\n",
       "       [-8.38071287e-01,  1.42518282e-01, -1.65337712e-01,\n",
       "         8.78911436e-01, -1.00941293e-01],\n",
       "       [ 9.88903269e-02, -1.70683408e+00, -2.97420710e-01,\n",
       "        -9.73999679e-01,  6.17341042e-01],\n",
       "       [-1.19152088e-02, -9.84713137e-01,  9.42546666e-01,\n",
       "         1.24303460e+00,  5.63171327e-01],\n",
       "       [-4.84139860e-01, -1.52870610e-01,  3.62797052e-01,\n",
       "         2.63197392e-01, -2.13281885e-02],\n",
       "       [-7.25348830e-01,  5.10697067e-01,  1.81764290e-01,\n",
       "        -5.50787449e-01,  1.35157973e-01],\n",
       "       [ 1.46963954e-01, -1.63805664e-01,  7.39958107e-01,\n",
       "        -1.31609070e+00, -2.13150308e-01],\n",
       "       [ 9.17169929e-01, -1.84396923e+00, -1.54427242e+00,\n",
       "        -5.79308212e-01,  1.18724145e-01],\n",
       "       [ 2.16669306e-01, -1.12426066e+00, -1.05328763e+00,\n",
       "        -1.56736398e+00,  1.80741584e+00],\n",
       "       [-5.21856129e-01, -2.57891983e-01,  5.28792799e-01,\n",
       "        -6.95912421e-01,  4.22342956e-01],\n",
       "       [ 1.08245099e+00, -3.83381313e-03,  5.22188485e-01,\n",
       "        -1.27764928e+00,  1.21795452e+00],\n",
       "       [ 4.45261121e-01, -1.19703555e+00,  1.80371508e-01,\n",
       "        -1.43548286e+00, -4.71266866e-01],\n",
       "       [ 9.86580029e-02, -1.26754951e+00,  5.27063124e-02,\n",
       "         1.09277010e+00, -1.13822711e+00],\n",
       "       [-1.44909418e+00, -1.00643420e+00,  1.92956224e-01,\n",
       "         9.86003280e-01, -1.38279521e+00],\n",
       "       [-4.05380666e-01, -9.62978601e-02,  1.68541622e+00,\n",
       "         9.09274101e-01, -4.45418268e-01],\n",
       "       [-2.01819837e-01,  1.55474925e+00, -2.99574196e-01,\n",
       "        -5.06093539e-02, -3.15089166e-01],\n",
       "       [-1.39087260e-01, -1.05446029e+00, -8.54716182e-01,\n",
       "        -8.08491588e-01,  2.47889236e-02],\n",
       "       [-7.93426216e-01,  7.89540946e-01, -1.65685499e+00,\n",
       "        -3.54793459e-01,  3.44170362e-01],\n",
       "       [ 1.21796191e-01, -1.07683337e+00,  5.15875638e-01,\n",
       "         1.00317411e-01, -1.32044390e-01],\n",
       "       [ 3.24074268e-01, -5.21086097e-01, -1.00682569e+00,\n",
       "         6.78521097e-01,  2.49025583e-01],\n",
       "       [ 9.37596917e-01,  7.25637555e-01, -2.11388245e-01,\n",
       "         3.80678773e-01,  1.68994534e+00],\n",
       "       [-9.88687575e-01,  4.87611383e-01,  2.69827396e-01,\n",
       "        -3.43851596e-01,  4.01735425e-01],\n",
       "       [ 1.51941085e+00,  3.22452754e-01, -7.25500226e-01,\n",
       "         7.91161597e-01, -1.89754609e-02],\n",
       "       [-2.73259044e-01,  1.20540273e+00,  9.35951322e-02,\n",
       "         3.34864050e-01,  5.26934639e-02],\n",
       "       [-1.77229095e+00, -4.38536912e-01,  1.15560389e+00,\n",
       "        -4.86881554e-01, -1.17479098e+00],\n",
       "       [-7.62885660e-02, -1.48350447e-01,  1.20249879e+00,\n",
       "        -1.80592668e+00,  1.18875593e-01],\n",
       "       [-1.93080567e-02, -9.66783941e-01,  4.03042555e-01,\n",
       "         1.10044129e-01,  5.72109699e-01],\n",
       "       [ 5.63543200e-01,  1.78661108e-01,  9.67218339e-01,\n",
       "        -4.70639616e-01, -9.76296127e-01],\n",
       "       [-1.75301746e-01,  1.38441789e+00, -6.80527091e-02,\n",
       "         1.06412840e+00, -1.55430460e+00],\n",
       "       [ 4.95400757e-01, -4.74433810e-01,  1.12504423e+00,\n",
       "         5.06715357e-01,  3.85188796e-02],\n",
       "       [-3.81650209e-01,  4.43262637e-01,  8.33710492e-01,\n",
       "         3.78851026e-01, -7.06656370e-03],\n",
       "       [ 1.80952147e-01,  1.93839386e-01,  7.76532054e-01,\n",
       "        -4.70800936e-01, -1.04780924e+00],\n",
       "       [-9.20049194e-03, -7.77593076e-01, -5.91505468e-01,\n",
       "         8.51771355e-01,  1.64521992e+00],\n",
       "       [-6.31171823e-01,  4.41260368e-01,  3.89174014e-01,\n",
       "        -1.76726234e+00, -5.08643270e-01],\n",
       "       [ 8.18893492e-01, -9.62427258e-01,  1.88343957e-01,\n",
       "         3.77218813e-01, -3.09771776e-01],\n",
       "       [-4.72159237e-01,  1.28562891e+00, -7.98834313e-04,\n",
       "        -4.18381155e-01,  6.96745634e-01],\n",
       "       [ 3.27568829e-01, -2.29419604e-01,  1.90999734e+00,\n",
       "         1.17520317e-02, -1.54896665e+00],\n",
       "       [-9.60819960e-01, -1.05789232e+00, -7.66523063e-01,\n",
       "        -1.43573225e+00,  4.38655198e-01],\n",
       "       [-1.07363987e+00, -1.11844563e+00, -2.04897791e-01,\n",
       "        -1.64798811e-01,  6.01671517e-01],\n",
       "       [-3.76901954e-01, -8.61738801e-01,  6.85528398e-01,\n",
       "        -1.14975917e+00, -8.95352721e-01],\n",
       "       [-8.04656267e-01,  1.49385309e+00,  4.46705520e-01,\n",
       "        -4.26014185e-01,  7.77596176e-01],\n",
       "       [ 9.28307772e-01,  1.40700554e-02, -1.05108535e+00,\n",
       "        -7.57864714e-01, -6.37586951e-01],\n",
       "       [ 8.59278440e-01, -1.21818721e+00, -1.22125697e+00,\n",
       "         1.42715406e+00,  1.20489609e+00],\n",
       "       [ 9.32640493e-01, -7.58809984e-01, -4.90389824e-01,\n",
       "         1.59426999e+00, -8.93501163e-01],\n",
       "       [-5.43886364e-01, -1.75773248e-01, -7.89533854e-01,\n",
       "        -1.00063086e+00, -2.77168979e-03],\n",
       "       [ 6.89105153e-01, -1.57821071e+00,  6.92650795e-01,\n",
       "         5.13717651e-01,  4.58561391e-01],\n",
       "       [-2.07695052e-01, -7.16712654e-01, -4.17282820e-01,\n",
       "        -1.69474578e+00,  3.31985094e-02],\n",
       "       [ 8.79205346e-01, -1.02093375e+00,  5.36276698e-01,\n",
       "         1.14126003e+00, -7.09640622e-01],\n",
       "       [-4.61626321e-01, -7.17025876e-01, -8.80916297e-01,\n",
       "        -3.85386020e-01,  1.22413409e+00],\n",
       "       [-5.57077527e-01,  1.16745102e+00, -9.92055058e-01,\n",
       "        -1.08472145e+00,  1.67843664e+00],\n",
       "       [-1.04651570e+00,  5.31302810e-01, -5.77111006e-01,\n",
       "        -1.43247294e+00, -1.16667700e+00],\n",
       "       [ 6.64982140e-01, -5.21441638e-01, -7.09765494e-01,\n",
       "        -9.30119812e-01, -2.00309344e-02],\n",
       "       [ 1.50225222e+00, -1.07001007e+00, -1.21171033e+00,\n",
       "         4.21928734e-01, -1.19902492e+00],\n",
       "       [-5.55269122e-01, -1.29544950e+00, -1.80561936e+00,\n",
       "        -1.76457182e-01, -1.96629494e-01],\n",
       "       [ 1.39412320e+00, -2.56612718e-01, -1.22033322e+00,\n",
       "         1.15464091e+00,  6.80222809e-01],\n",
       "       [ 1.22127330e+00, -4.41488326e-01,  1.90862012e+00,\n",
       "        -1.02338815e+00, -7.38131285e-01],\n",
       "       [ 2.45415151e-01, -4.27533686e-01,  1.14868522e+00,\n",
       "        -7.95098245e-01, -8.40601444e-01]], dtype=float32)"
      ]
     },
     "execution_count": 46,
     "metadata": {},
     "output_type": "execute_result"
    }
   ],
   "source": [
    "n_features =120\n",
    "n_labels = 5 \n",
    "weights = tf.Variable(tf.random.truncated_normal((n_features,n_labels)))\n",
    "init = tf.compat.v1.global_variables_initializer() #initialize before output\n",
    "sess.run(init)\n",
    "sess.run(weights)"
   ]
  },
  {
   "cell_type": "code",
   "execution_count": null,
   "id": "bf7f504e",
   "metadata": {},
   "outputs": [],
   "source": []
  },
  {
   "cell_type": "code",
   "execution_count": 48,
   "id": "3f161aac",
   "metadata": {},
   "outputs": [
    {
     "data": {
      "text/plain": [
       "array([[ 2.20287159e-01, -5.81171155e-01,  2.81481892e-02,\n",
       "         7.46948600e-01, -2.41854265e-01],\n",
       "       [ 1.43110514e+00, -3.17929536e-01, -9.64797556e-01,\n",
       "        -1.01603913e+00, -6.96469322e-02],\n",
       "       [ 3.67685616e-01, -8.25630665e-01,  1.25685596e+00,\n",
       "         1.21212162e-01, -2.67172921e-02],\n",
       "       [-2.04927623e-01,  2.44740561e-01, -3.23495060e-01,\n",
       "         8.11828971e-01, -1.75654745e+00],\n",
       "       [ 7.23513544e-01, -6.58888340e-01, -2.12075457e-01,\n",
       "         1.06569242e+00,  6.80351555e-01],\n",
       "       [ 7.94679880e-01,  3.96394469e-02,  1.78316474e-01,\n",
       "         2.05952317e-01, -5.59806287e-01],\n",
       "       [-8.99217427e-01, -4.95251387e-01, -7.05415189e-01,\n",
       "        -5.57405710e-01, -4.25654203e-02],\n",
       "       [ 5.51026642e-01,  6.47765279e-01,  6.69574618e-01,\n",
       "         1.83783245e+00, -9.08557773e-02],\n",
       "       [-2.15479210e-01,  1.09975803e+00, -1.63549316e+00,\n",
       "        -1.62518418e+00, -1.24541903e+00],\n",
       "       [-4.24432188e-01,  1.67569423e+00,  8.61070991e-01,\n",
       "        -9.91466403e-01, -3.68612707e-01],\n",
       "       [ 7.22299159e-01,  5.75010955e-01, -1.13186753e+00,\n",
       "         1.18162298e+00,  1.33887219e+00],\n",
       "       [ 1.52532995e+00,  3.86443526e-01,  1.29752004e+00,\n",
       "         8.64501178e-01,  6.01516664e-01],\n",
       "       [ 1.16494298e-01,  4.30340081e-01,  5.44821322e-02,\n",
       "        -2.92198718e-01, -6.50354087e-01],\n",
       "       [-8.39718699e-01,  2.17171177e-01, -1.48180759e+00,\n",
       "         7.68144310e-01,  5.85987866e-01],\n",
       "       [-5.78509450e-01, -4.33003157e-01, -7.58443624e-02,\n",
       "         9.45208073e-01, -5.07154822e-01],\n",
       "       [ 6.98077798e-01, -1.91458672e-01,  3.51677150e-01,\n",
       "        -5.40176749e-01,  9.33510482e-01],\n",
       "       [ 8.56041312e-01, -1.50033712e-01,  3.97892952e-01,\n",
       "        -1.77386391e+00, -4.62686688e-01],\n",
       "       [-2.51349241e-01, -2.80338943e-01, -1.28037572e+00,\n",
       "         1.46790117e-01, -4.63090867e-01],\n",
       "       [-1.38818726e-01, -8.75610769e-01, -2.90011823e-01,\n",
       "         2.07412153e-01, -9.05770361e-01],\n",
       "       [-1.51019621e+00, -1.31244147e+00, -1.33594263e+00,\n",
       "         2.02853471e-01,  1.03889763e+00],\n",
       "       [-1.47779331e-01,  1.08249891e+00, -1.01000890e-02,\n",
       "        -2.05809370e-01,  9.65837777e-01],\n",
       "       [ 9.42102492e-01,  1.94041789e-01, -1.36935318e+00,\n",
       "        -5.94585359e-01, -2.88133681e-01],\n",
       "       [ 7.30300725e-01,  7.51797318e-01, -4.56047803e-01,\n",
       "         1.43639132e-01,  1.13982521e-01],\n",
       "       [ 1.83321786e+00, -4.19281393e-01, -8.64993811e-01,\n",
       "         1.49305654e+00, -2.17647821e-01],\n",
       "       [ 4.90879059e-01,  5.95556319e-01, -9.34138238e-01,\n",
       "        -1.55611432e+00, -9.63810205e-01],\n",
       "       [-1.18851995e+00, -2.26546913e-01, -3.70829284e-01,\n",
       "         1.42851084e-01,  7.05384016e-01],\n",
       "       [-8.29113066e-01, -1.10979855e+00, -8.15472662e-01,\n",
       "        -7.64901221e-01, -7.50231519e-02],\n",
       "       [-6.35169208e-01,  8.20141196e-01,  1.44858375e-01,\n",
       "        -6.12217069e-01, -1.62715423e+00],\n",
       "       [-4.88002032e-01, -7.31751174e-02, -1.18206777e-01,\n",
       "        -5.80398142e-01,  3.91575038e-01],\n",
       "       [-4.11410145e-02,  9.70887780e-01, -1.03795379e-01,\n",
       "         5.25183737e-01,  8.06736529e-01],\n",
       "       [ 9.84036505e-01,  1.05411863e+00,  1.99787796e+00,\n",
       "        -1.94307077e+00, -9.85302687e-01],\n",
       "       [ 1.24818408e+00, -6.71721101e-01, -3.40288579e-01,\n",
       "         2.81975240e-01,  7.88415223e-02],\n",
       "       [ 1.94918483e-01, -9.46310222e-01,  1.13982403e+00,\n",
       "         6.66405022e-01, -5.78304529e-01],\n",
       "       [-8.26449990e-01, -1.77678311e+00,  7.62140870e-01,\n",
       "        -9.22025681e-01, -5.64446986e-01],\n",
       "       [ 1.20929897e+00, -5.06890893e-01, -1.36902034e-02,\n",
       "        -2.98538357e-01,  7.37734318e-01],\n",
       "       [-1.62885261e+00, -8.76840293e-01, -3.44820589e-01,\n",
       "         9.20216858e-01,  1.68304414e-01],\n",
       "       [ 3.27770114e-01, -8.35449755e-01, -7.46584654e-01,\n",
       "        -1.72949660e+00, -6.46670341e-01],\n",
       "       [-1.82996905e+00, -1.65234256e+00,  1.42258769e-02,\n",
       "         1.55074121e-02, -3.87762412e-02],\n",
       "       [-1.26570654e+00,  4.56458569e-01,  9.99726892e-01,\n",
       "         6.53974056e-01, -1.98360726e-01],\n",
       "       [ 1.10406756e-01, -1.76204190e-01,  5.78863800e-01,\n",
       "        -1.69740751e-01, -1.00367069e+00],\n",
       "       [-6.81302488e-01,  1.79695106e+00, -1.23580039e+00,\n",
       "        -1.36069253e-01, -8.75132084e-01],\n",
       "       [-3.71969134e-01,  6.83705628e-01,  1.67836890e-01,\n",
       "         4.03137833e-01,  6.91599309e-01],\n",
       "       [ 8.63588095e-01, -2.19990015e-01,  3.59649323e-02,\n",
       "        -2.16929689e-01, -7.86769331e-01],\n",
       "       [-1.11855876e+00, -4.83313411e-01,  2.99092948e-01,\n",
       "        -2.62971312e-01,  5.30253470e-01],\n",
       "       [ 5.71359515e-01, -6.02056503e-01,  4.38442290e-01,\n",
       "         2.38618568e-01, -4.35768664e-01],\n",
       "       [ 1.10865426e+00, -2.18581125e-01,  1.97633468e-02,\n",
       "         1.53812110e+00,  2.90920824e-01],\n",
       "       [ 1.89970493e+00,  1.11317086e+00,  9.25874710e-01,\n",
       "         1.55320096e+00, -1.24006665e+00],\n",
       "       [-2.48855010e-01, -7.21501231e-01, -4.70910043e-01,\n",
       "         1.09560537e+00,  1.12609327e+00],\n",
       "       [-9.24120009e-01, -1.84553847e-01, -8.81397605e-01,\n",
       "         1.03638098e-01,  2.08999291e-02],\n",
       "       [-9.09479558e-01,  8.41846764e-01,  6.84239268e-01,\n",
       "        -1.49833751e+00,  7.74445474e-01],\n",
       "       [-8.10243785e-01, -1.14994025e+00, -5.97066700e-01,\n",
       "        -6.38063133e-01, -7.58237958e-01],\n",
       "       [-5.11729345e-02, -1.19987226e+00, -8.37906063e-01,\n",
       "         5.68378210e-01,  1.87176749e-01],\n",
       "       [ 6.87389433e-01,  4.66083825e-01,  4.11605209e-01,\n",
       "        -1.20185053e+00,  5.21779239e-01],\n",
       "       [ 1.22620225e+00, -1.15031672e+00,  7.19805837e-01,\n",
       "        -9.38299477e-01,  2.90631711e-01],\n",
       "       [ 1.74475014e-01, -1.49739727e-01,  1.13640165e+00,\n",
       "         6.07244194e-01,  8.36244106e-01],\n",
       "       [-5.33800602e-01, -1.39280272e+00,  1.49184987e-01,\n",
       "         2.27863546e-02,  3.96181494e-01],\n",
       "       [-1.08424652e+00,  1.53242111e+00, -1.38876438e+00,\n",
       "        -3.74352008e-01,  2.58657426e-01],\n",
       "       [ 6.83671176e-01,  1.30991232e+00, -1.00098085e+00,\n",
       "         2.98308492e-01, -6.82462573e-01],\n",
       "       [ 4.13414210e-01,  3.55893195e-01,  2.29961365e-01,\n",
       "        -1.03734434e+00, -5.00938892e-01],\n",
       "       [ 9.58662629e-02, -6.55585825e-01, -5.91826141e-01,\n",
       "         1.77389407e+00, -6.55383527e-01],\n",
       "       [-1.33568847e+00,  1.22063577e-01,  5.03106058e-01,\n",
       "         1.42237961e+00, -4.08821404e-01],\n",
       "       [-8.36027861e-01,  1.35929751e+00,  5.00557482e-01,\n",
       "        -6.67524815e-01,  8.77521515e-01],\n",
       "       [-7.68755674e-01, -1.47757664e-01, -4.33327615e-01,\n",
       "         7.89531291e-01, -3.93622100e-01],\n",
       "       [ 5.44595756e-02, -7.09002376e-01,  7.87905812e-01,\n",
       "         8.51536766e-02, -1.19039237e+00],\n",
       "       [-8.24528635e-01,  1.18368268e+00,  5.76569773e-02,\n",
       "         6.04961038e-01,  9.54158902e-01],\n",
       "       [ 1.19820786e+00,  9.21121299e-01,  1.90937996e-01,\n",
       "        -1.97699392e+00, -1.02089286e-01],\n",
       "       [-1.69361919e-01,  1.34534895e+00,  4.73127306e-01,\n",
       "        -4.57237512e-01, -7.53148854e-01],\n",
       "       [ 7.30482936e-01, -4.86194342e-01, -1.01453446e-01,\n",
       "        -9.12959695e-01, -9.76959765e-01],\n",
       "       [-4.17786956e-01,  1.46343902e-01, -5.77896953e-01,\n",
       "        -5.56809127e-01, -9.10456181e-01],\n",
       "       [ 6.00815117e-01, -8.06552827e-01,  5.09738207e-01,\n",
       "        -2.19324186e-01, -1.14941204e+00],\n",
       "       [ 9.93008167e-02,  1.37941992e+00,  8.22723687e-01,\n",
       "         2.80437857e-01, -3.05904627e-01],\n",
       "       [-1.69668496e+00,  1.98655462e+00, -1.25432694e+00,\n",
       "         8.18027258e-01, -1.28417468e+00],\n",
       "       [-7.10190892e-01,  5.20861626e-01,  9.37011361e-01,\n",
       "        -1.22581697e+00, -1.02336571e-01],\n",
       "       [ 8.51274252e-01, -4.26125467e-01, -1.21628225e+00,\n",
       "         5.20144343e-01,  2.26021305e-01],\n",
       "       [-6.42509103e-01, -6.28034711e-01,  1.59874395e-01,\n",
       "         9.79596436e-01, -1.34687722e+00],\n",
       "       [-4.85013217e-01,  1.21044552e+00, -9.00302351e-01,\n",
       "        -2.87812740e-01,  3.41067076e-01],\n",
       "       [-1.25738752e+00, -6.15701854e-01,  2.70773649e-01,\n",
       "        -7.68752173e-02, -1.51003957e+00],\n",
       "       [-1.46633661e+00, -9.00705695e-01, -1.43958676e+00,\n",
       "         1.35247350e+00,  6.41419828e-01],\n",
       "       [-4.01589930e-01,  3.98151606e-01,  5.71805358e-01,\n",
       "         1.35276151e+00, -7.05364823e-01],\n",
       "       [ 2.48480290e-01, -7.38858402e-01,  4.44890559e-02,\n",
       "         9.08276439e-01, -3.82427573e-01],\n",
       "       [ 6.75412536e-01, -5.54223955e-01,  9.27994967e-01,\n",
       "         6.76907897e-01, -4.39867258e-01],\n",
       "       [ 9.48386431e-01, -9.26416516e-01, -1.27064621e+00,\n",
       "        -9.01362896e-01, -1.57157564e+00],\n",
       "       [-1.13534009e+00, -1.40201912e-04,  8.73514533e-01,\n",
       "        -9.47317541e-01,  3.65263730e-01],\n",
       "       [ 1.11535156e+00,  9.94244695e-01,  6.01234853e-01,\n",
       "        -1.16269159e+00, -2.30938971e-01],\n",
       "       [ 8.07718158e-01, -1.15504891e-01,  5.58381140e-01,\n",
       "         7.03766942e-02, -4.24892992e-01],\n",
       "       [-6.58357322e-01,  9.04890239e-01,  1.99243009e-01,\n",
       "        -1.85323477e+00, -8.80623758e-01],\n",
       "       [ 8.82611632e-01, -2.28432819e-01,  3.75865787e-01,\n",
       "        -8.75311017e-01,  8.92901123e-01],\n",
       "       [ 8.41208875e-01, -4.40858513e-01,  2.73254484e-01,\n",
       "         2.36536771e-01, -1.09428251e+00],\n",
       "       [ 5.45170367e-01,  5.13347089e-01,  7.31651902e-01,\n",
       "         1.60186720e+00, -2.18735710e-01],\n",
       "       [-1.04925025e+00,  2.33802035e-01, -4.02591169e-01,\n",
       "        -1.56972122e+00, -4.43350226e-02],\n",
       "       [-9.31924462e-01,  7.45406687e-01, -3.04105617e-02,\n",
       "         9.18718457e-01, -9.08985436e-02],\n",
       "       [-4.26872611e-01,  2.01227054e-01, -2.38042206e-01,\n",
       "        -1.01068056e+00,  1.34613204e+00],\n",
       "       [ 6.98973835e-02,  2.66708732e-01, -9.61546957e-01,\n",
       "        -5.81074238e-01, -4.14779991e-01],\n",
       "       [-4.15882558e-01,  1.72572792e+00, -9.67754662e-01,\n",
       "         1.51312375e+00, -9.68743503e-01],\n",
       "       [ 5.04615247e-01,  7.36812234e-01, -1.60058892e+00,\n",
       "        -6.49195075e-01, -3.18923503e-01],\n",
       "       [-1.15181375e+00, -1.43491194e-01, -8.81257430e-02,\n",
       "        -1.43522346e+00, -5.10514736e-01],\n",
       "       [-5.30301154e-01,  1.31724441e+00,  9.15769577e-01,\n",
       "         7.58749008e-01, -5.93742192e-01],\n",
       "       [ 4.73642796e-01,  2.73486853e-01, -4.95755106e-01,\n",
       "         1.28530979e+00, -1.29765296e+00],\n",
       "       [ 1.06711304e+00, -7.94741511e-01, -1.65553555e-01,\n",
       "         5.12728274e-01,  8.67649555e-01],\n",
       "       [ 2.79773742e-01, -1.10419190e+00, -3.48137856e-01,\n",
       "         6.41407967e-01, -3.70771468e-01],\n",
       "       [ 5.32667816e-01, -1.10193884e+00, -1.31548464e-01,\n",
       "         5.35611153e-01, -1.35045481e+00],\n",
       "       [ 1.72457111e+00, -5.36814868e-01, -1.10605013e+00,\n",
       "         1.10275400e+00,  2.44648784e-01],\n",
       "       [ 3.46071184e-01,  1.14122856e+00, -8.77537578e-02,\n",
       "         9.64592040e-01, -7.98136592e-02],\n",
       "       [ 1.92090499e+00, -6.81790471e-01, -3.01223397e-01,\n",
       "         9.91831541e-01,  7.62561142e-01],\n",
       "       [-9.98575866e-01, -1.85326838e+00, -1.19567566e-01,\n",
       "         1.95095611e+00, -1.59608319e-01],\n",
       "       [ 3.21062952e-01, -4.90401566e-01, -5.98280907e-01,\n",
       "         3.38401675e-01,  5.63435733e-01],\n",
       "       [ 9.83835340e-01,  9.40325022e-01, -9.33645546e-01,\n",
       "         1.14587307e+00,  6.53671846e-02],\n",
       "       [ 1.36409760e+00, -6.36744618e-01,  1.72321069e+00,\n",
       "        -3.72662038e-01, -4.49241102e-01],\n",
       "       [-1.63636208e-01, -1.52366853e+00,  2.73474306e-01,\n",
       "        -4.99648213e-01, -4.66664225e-01],\n",
       "       [-1.43782878e+00, -1.24782830e-01,  5.27365029e-01,\n",
       "        -1.41221330e-01, -2.68566590e-02],\n",
       "       [-1.11334407e+00, -6.59179807e-01,  1.59572983e+00,\n",
       "         5.16799331e-01,  9.40325618e-01],\n",
       "       [ 1.01903653e+00, -6.93925440e-01,  1.04824471e+00,\n",
       "        -1.55658340e+00,  3.58083665e-01],\n",
       "       [ 8.20813596e-01,  1.21372327e-01, -2.72066712e-01,\n",
       "        -1.32498991e+00, -7.96539962e-01],\n",
       "       [-3.72532785e-01, -1.20316118e-01,  2.05398545e-01,\n",
       "        -1.19907904e+00,  1.33618510e+00],\n",
       "       [ 8.50079894e-01, -2.44302973e-01,  1.05530584e+00,\n",
       "        -8.09795439e-01,  1.30780292e+00],\n",
       "       [ 3.55455041e-01,  7.21302032e-02, -1.98022813e-01,\n",
       "        -1.23146093e+00, -3.01385492e-01],\n",
       "       [ 1.50128350e-01, -1.20796382e-01, -5.50474763e-01,\n",
       "        -8.63926470e-01,  5.56711674e-01],\n",
       "       [-8.20757866e-01,  8.19345295e-01, -9.97293115e-01,\n",
       "         1.80477369e+00, -5.05949631e-02],\n",
       "       [-3.68865043e-01, -4.12583977e-01, -2.71542400e-01,\n",
       "        -2.59022027e-01, -6.16681635e-01],\n",
       "       [-7.90531576e-01,  8.99779856e-01, -3.61191839e-01,\n",
       "         8.15562427e-01,  7.47159183e-01]], dtype=float32)"
      ]
     },
     "execution_count": 48,
     "metadata": {},
     "output_type": "execute_result"
    }
   ],
   "source": [
    "o = tf.random.truncated_normal((n_features,n_labels))\n",
    "init = tf.compat.v1.global_variables_initializer() #initialize before output\n",
    "sess.run(init)\n",
    "sess.run(o)"
   ]
  },
  {
   "cell_type": "code",
   "execution_count": null,
   "id": "83ac1c5a",
   "metadata": {},
   "outputs": [],
   "source": []
  },
  {
   "cell_type": "code",
   "execution_count": 49,
   "id": "a555e077",
   "metadata": {},
   "outputs": [],
   "source": [
    "#Zeros"
   ]
  },
  {
   "cell_type": "code",
   "execution_count": 50,
   "id": "8fde4e4c",
   "metadata": {},
   "outputs": [
    {
     "data": {
      "text/plain": [
       "array([[1., 1., 1.],\n",
       "       [1., 1., 1.],\n",
       "       [1., 1., 1.],\n",
       "       [1., 1., 1.],\n",
       "       [1., 1., 1.]])"
      ]
     },
     "execution_count": 50,
     "metadata": {},
     "output_type": "execute_result"
    }
   ],
   "source": [
    "import numpy as np\n",
    "np.ones((5,3))"
   ]
  },
  {
   "cell_type": "code",
   "execution_count": 54,
   "id": "bf9cbf3b",
   "metadata": {},
   "outputs": [
    {
     "data": {
      "text/plain": [
       "array([0., 0., 0., 0., 0.], dtype=float32)"
      ]
     },
     "execution_count": 54,
     "metadata": {},
     "output_type": "execute_result"
    }
   ],
   "source": [
    "n_labels = 5\n",
    "bias = tf.Variable(tf.zeros(n_labels))\n",
    "\n",
    "init = tf.compat.v1.global_variables_initializer() #initialize before output\n",
    "sess.run(init)\n",
    "sess.run(bias)"
   ]
  },
  {
   "cell_type": "code",
   "execution_count": null,
   "id": "bf8488f5",
   "metadata": {},
   "outputs": [],
   "source": []
  },
  {
   "cell_type": "code",
   "execution_count": 57,
   "id": "ed7a581f",
   "metadata": {},
   "outputs": [],
   "source": [
    "#Softmax"
   ]
  },
  {
   "cell_type": "code",
   "execution_count": 59,
   "id": "62504769",
   "metadata": {},
   "outputs": [
    {
     "data": {
      "text/plain": [
       "array([0.45659032, 0.3382504 , 0.20515925], dtype=float32)"
      ]
     },
     "execution_count": 59,
     "metadata": {},
     "output_type": "execute_result"
    }
   ],
   "source": [
    "x = tf.nn.softmax([1.2,0.9,0.4])\n",
    "sess.run(x)"
   ]
  },
  {
   "cell_type": "code",
   "execution_count": null,
   "id": "4fb59bc2",
   "metadata": {},
   "outputs": [],
   "source": []
  },
  {
   "cell_type": "code",
   "execution_count": null,
   "id": "ff405050",
   "metadata": {},
   "outputs": [],
   "source": []
  },
  {
   "cell_type": "code",
   "execution_count": 60,
   "id": "53c26855",
   "metadata": {},
   "outputs": [],
   "source": [
    "#One hot encoding"
   ]
  },
  {
   "cell_type": "code",
   "execution_count": null,
   "id": "464d6c84",
   "metadata": {},
   "outputs": [],
   "source": []
  },
  {
   "cell_type": "code",
   "execution_count": 61,
   "id": "839e6103",
   "metadata": {},
   "outputs": [
    {
     "data": {
      "text/plain": [
       "15"
      ]
     },
     "execution_count": 61,
     "metadata": {},
     "output_type": "execute_result"
    }
   ],
   "source": [
    "#Reduce sum\n",
    "x = tf.reduce_sum([1,2,3,4,5])\n",
    "sess.run(x)  #gives the sum"
   ]
  },
  {
   "cell_type": "code",
   "execution_count": null,
   "id": "e80e1344",
   "metadata": {},
   "outputs": [],
   "source": []
  },
  {
   "cell_type": "code",
   "execution_count": 64,
   "id": "64c0e000",
   "metadata": {},
   "outputs": [
    {
     "data": {
      "text/plain": [
       "4.6051702"
      ]
     },
     "execution_count": 64,
     "metadata": {},
     "output_type": "execute_result"
    }
   ],
   "source": [
    "#Natural log\n",
    "x = tf.math.log(100.0)\n",
    "sess.run(x)"
   ]
  },
  {
   "cell_type": "code",
   "execution_count": null,
   "id": "1ee084ea",
   "metadata": {},
   "outputs": [],
   "source": []
  },
  {
   "cell_type": "code",
   "execution_count": 66,
   "id": "e40ca250",
   "metadata": {},
   "outputs": [
    {
     "data": {
      "text/plain": [
       "0.35667497"
      ]
     },
     "execution_count": 66,
     "metadata": {},
     "output_type": "execute_result"
    }
   ],
   "source": [
    "#cross entropy \n",
    "import tensorflow as tf\n",
    "\n",
    "softmax_data = [0.7,0.2,0.1]\n",
    "one_hot_data = [1.0,0.0,0.0]\n",
    "\n",
    "softmax = tf.compat.v1.placeholder(tf.float32)\n",
    "one_hot = tf.compat.v1.placeholder(tf.float32)\n",
    "\n",
    "#Print cross Entropy\n",
    "cross_entrpy = -tf.reduce_sum(tf.multiply(one_hot_data,tf.math.log(softmax_data)))\n",
    "sess.run(cross_entrpy)"
   ]
  },
  {
   "cell_type": "code",
   "execution_count": null,
   "id": "30c46641",
   "metadata": {},
   "outputs": [],
   "source": []
  },
  {
   "cell_type": "code",
   "execution_count": null,
   "id": "79606895",
   "metadata": {},
   "outputs": [],
   "source": []
  },
  {
   "cell_type": "code",
   "execution_count": null,
   "id": "f352ac8f",
   "metadata": {},
   "outputs": [],
   "source": []
  },
  {
   "cell_type": "code",
   "execution_count": null,
   "id": "1527d279",
   "metadata": {},
   "outputs": [],
   "source": []
  },
  {
   "cell_type": "code",
   "execution_count": null,
   "id": "a67d4758",
   "metadata": {},
   "outputs": [],
   "source": []
  }
 ],
 "metadata": {
  "kernelspec": {
   "display_name": "Python 3 (ipykernel)",
   "language": "python",
   "name": "python3"
  },
  "language_info": {
   "codemirror_mode": {
    "name": "ipython",
    "version": 3
   },
   "file_extension": ".py",
   "mimetype": "text/x-python",
   "name": "python",
   "nbconvert_exporter": "python",
   "pygments_lexer": "ipython3",
   "version": "3.9.7"
  }
 },
 "nbformat": 4,
 "nbformat_minor": 5
}
